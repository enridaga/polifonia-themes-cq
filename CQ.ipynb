{
 "cells": [
  {
   "cell_type": "code",
   "execution_count": 1,
   "metadata": {},
   "outputs": [
    {
     "name": "stdout",
     "output_type": "stream",
     "text": [
      "Python 3.9.12\n"
     ]
    }
   ],
   "source": [
    "#!pip install numpy\n",
    "#!pip install sklearn\n",
    "#!python -m pip install nltk\n",
    "%reset -f\n",
    "import csv\n",
    "import numpy\n",
    "import os\n",
    "import re\n",
    "#import nltk\n",
    "!python --version\n",
    "#!python\n"
   ]
  },
  {
   "cell_type": "code",
   "execution_count": 2,
   "metadata": {},
   "outputs": [],
   "source": [
    "# Load competency questions into pilots\n",
    "pilots = {}\n",
    "with open('./data/competency-questions.csv', newline='') as csvcq:\n",
    "    reader = csv.reader(csvcq, delimiter=',', quotechar='\"')\n",
    "    for row in reader:\n",
    "        #print(row)\n",
    "        if row[1] == \"\" or row[0] == 'text':\n",
    "            continue;\n",
    "        if row[1] not in pilots.keys():\n",
    "            pilots[row[1]] = []\n",
    "        pilots[row[1]].append(row[0])\n",
    "#print(pilots)\n"
   ]
  },
  {
   "cell_type": "code",
   "execution_count": 3,
   "metadata": {},
   "outputs": [],
   "source": [
    "# Write a file for each pilots with their CQs\n",
    "for pilot in pilots.keys():\n",
    "    filename = \"./data/docs/\" + pilot + \".txt\"\n",
    "    os.makedirs(os.path.dirname(filename), exist_ok=True)\n",
    "    f = open(filename, \"w\")\n",
    "    for element in pilots[pilot]:\n",
    "        f.write(element + \"\\n\")\n",
    "    f.close()\n",
    "\n"
   ]
  },
  {
   "cell_type": "code",
   "execution_count": 4,
   "metadata": {},
   "outputs": [],
   "source": [
    "# Prepare documents\n",
    "# https://stackoverflow.com/questions/32957895/wordnetlemmatizer-not-returning-the-right-lemma-unless-pos-is-explicit-python\n",
    "import nltk\n",
    "from nltk.stem import WordNetLemmatizer\n",
    "from nltk import pos_tag, word_tokenize\n",
    "\n",
    "lemmatizer = WordNetLemmatizer()\n",
    "pilots_keys = pilots.keys()\n",
    "documents = []\n",
    "for pilot in pilots_keys:\n",
    "    doc = \"\\n\".join(pilots[pilot])\n",
    "    doc = re.sub('CQ[0-9]+[^a-zA-Z]', '', doc)\n",
    "    lemmas = []\n",
    "    for word, tag in pos_tag(word_tokenize(doc)):\n",
    "        wntag = tag[0].lower()\n",
    "        wntag = wntag if wntag in ['a', 'r', 'n', 'v'] else None\n",
    "        if not wntag:\n",
    "                lemma = word\n",
    "        else:\n",
    "                lemma = lemmatizer.lemmatize(word, wntag)\n",
    "        lemmas.append(lemma)\n",
    "    doc = \" \".join(lemmas)\n",
    "    word_list = nltk.word_tokenize(doc)\n",
    "    #print(word_list)\n",
    "    doc = ' '.join([lemmatizer.lemmatize(w) for w in word_list])\n",
    "    documents.append(doc)\n",
    "    #print(pilot, doc)\n",
    "\n",
    "#print(pilots_keys)\n",
    "#print(documents)\n"
   ]
  },
  {
   "cell_type": "code",
   "execution_count": 5,
   "metadata": {},
   "outputs": [
    {
     "name": "stdout",
     "output_type": "stream",
     "text": [
      "['composition' 'source' 'musical' 'music' 'electronic' 'piece' 'play'\n",
      " 'work' 'perform' 'feature']\n"
     ]
    },
    {
     "name": "stderr",
     "output_type": "stream",
     "text": [
      "/Users/ed4565/Development/polifonia/wp4-competency-questions/.python3.9/lib/python3.9/site-packages/sklearn/utils/deprecation.py:87: FutureWarning: Function get_feature_names is deprecated; get_feature_names is deprecated in 1.0 and will be removed in 1.2. Please use get_feature_names_out instead.\n",
      "  warnings.warn(msg, category=FutureWarning)\n"
     ]
    }
   ],
   "source": [
    "# Compute TF/IDF on each pilot document\n",
    "from sklearn.feature_extraction.text import TfidfVectorizer\n",
    "def get_tfidf_top_features(documents,n_top=10):\n",
    "  tfidf_vectorizer = TfidfVectorizer(max_df=0.95, min_df=2, max_features=None, stop_words='english')\n",
    "  tfidf = tfidf_vectorizer.fit_transform(documents)\n",
    "  importance = numpy.argsort(numpy.asarray(tfidf.sum(axis=0)).ravel())[::-1]\n",
    "  tfidf_feature_names = numpy.array(tfidf_vectorizer.get_feature_names())\n",
    "  return tfidf_feature_names[importance[:n_top]]\n",
    "\n",
    "keywords = get_tfidf_top_features(documents, n_top=10)\n",
    "print(keywords)"
   ]
  },
  {
   "cell_type": "code",
   "execution_count": 6,
   "metadata": {},
   "outputs": [
    {
     "name": "stdout",
     "output_type": "stream",
     "text": [
      "MEETUPS {'music': 0.412, 'instrument': 0.295, 'musician': 0.258, 'place': 0.196, 'piece': 0.196, 'play': 0.172, 'time': 0.124, 'change': 0.124, 'visit': 0.116, 'sell': 0.116, 'sale': 0.116, 'react': 0.116, 'provenance': 0.116, 'payslip': 0.116, 'patron': 0.116, 'participant': 0.116, 'network': 0.116, 'muciain': 0.116, 'money': 0.116, 'meeting': 0.116, 'listen': 0.116, 'institution': 0.116, 'increase': 0.116, 'happend': 0.116, 'happen': 0.116, 'elite': 0.116, 'did': 0.116, 'come': 0.116, 'cause': 0.116, 'career': 0.116, 'brass': 0.116, 'band': 0.116, 'author': 0.116, 'attendee': 0.116, 'source': 0.113, 'world': 0.098, 'teach': 0.098, 'relationship': 0.098, 'pitch': 0.098, 'number': 0.098, 'meet': 0.098, 'make': 0.098, 'information': 0.098, 'exist': 0.098, 'concert': 0.098, 'account': 0.098, 'relation': 0.086, 'performer': 0.086, 'different': 0.086, 'country': 0.086, 'characterize': 0.086, 'people': 0.076, 'origin': 0.076, 'context': 0.076, 'connect': 0.076, 'use': 0.069, 'event': 0.069, 'composer': 0.062}\n",
      "CHILD {'source': 0.536, 'official': 0.33, 'subject': 0.275, 'music': 0.228, 'production': 0.22, 'child': 0.22, 'produce': 0.187, 'national': 0.187, 'role': 0.165, 'context': 0.145, 'event': 0.13, 'usage': 0.11, 'target': 0.11, 'political': 0.11, 'personal': 0.11, 'perception': 0.11, 'identity': 0.11, 'goal': 0.11, 'creator': 0.11, 'teach': 0.093, 'heritage': 0.093, 'aspect': 0.093, 'type': 0.082, 'characterize': 0.082, 'war': 0.055, 'trustworthy': 0.055, 'subjects': 0.055, 'review': 0.055, 'response': 0.055, 'related': 0.055, 'propaganda': 0.055, 'primary': 0.055, 'paint': 0.055, 'ordinary': 0.055, 'occupation': 0.055, 'literary': 0.055, 'listeners': 0.055, 'goals': 0.055, 'fests': 0.055, 'emotional': 0.055, 'education': 0.055, 'contexts': 0.055, 'commission': 0.055, 'authors': 0.055, 'audience': 0.055, 'adult': 0.055, 'academic': 0.055, '12': 0.055, '11': 0.055, '10': 0.055, 'relate': 0.054, 'text': 0.047, 'hand': 0.047, 'extent': 0.047, 'experience': 0.047, 'difference': 0.047, 'artist': 0.047, 'account': 0.047, 'relation': 0.041, 'period': 0.041, 'relevant': 0.036, 'people': 0.036, 'historical': 0.036, 'evidence': 0.036, 'connect': 0.036, 'use': 0.033, 'time': 0.029, 'change': 0.029}\n",
      "TUNES {'tune': 0.644, 'composition': 0.349, 'source': 0.246, 'similarity': 0.238, 'family': 0.224, 'corpus': 0.146, 'manuscript': 0.143, 'collection': 0.13, 'difference': 0.119, 'concern': 0.112, 'pattern': 0.111, 'repertoire': 0.095, 'print': 0.095, 'measure': 0.093, 'scribe': 0.084, 'melody': 0.084, 'evolution': 0.084, 'compare': 0.084, 'composer': 0.075, 'origin': 0.074, 'style': 0.071, 'similar': 0.071, 'share': 0.071, 'set': 0.067, 'music': 0.067, 'yn': 0.056, 'y1': 0.056, 'variant': 0.056, 'transition': 0.056, 'tonal': 0.056, 'longitudinal': 0.056, 'concordance': 0.056, 'title': 0.048, 'occurrence': 0.048, 'modal': 0.048, 'lyric': 0.048, 'level': 0.048, 'identify': 0.048, 'given': 0.048, 'geographic': 0.048, 'cqs': 0.048, 'know': 0.042, 'different': 0.042, 'visualize': 0.037, 'musical': 0.037, 'feature': 0.037, 'zoom': 0.028, 'working': 0.028, 'western': 0.028, 'weiss': 0.028, 'vary': 0.028, 'translation': 0.028, 'tradition': 0.028, 'trace': 0.028, 'stable': 0.028, 'specify': 0.028, 'serial': 0.028, 'section': 0.028, 'scan': 0.028, 'rism': 0.028, 'remain': 0.028, 'quite': 0.028, 'publisher': 0.028, 'process': 0.028, 'page': 0.028, 'overrepresented': 0.028, 'oral': 0.028, 'opera': 0.028, 'neuma': 0.028, 'longitudinally': 0.028, 'investigating': 0.028, 'interconnection': 0.028, 'influences': 0.028, 'indication': 0.028, 'geographical': 0.028, 'frequent': 0.028, 'folio': 0.028, 'et': 0.028, 'documented': 0.028, 'curve': 0.028, 'cover': 0.028, 'copy': 0.028, 'connections': 0.028, 'confidence': 0.028, 'computational': 0.028, 'compostions': 0.028, 'classical': 0.028, 'circulate': 0.028, 'certain': 0.028, 'attribute': 0.028, 'associate': 0.028, 'approach': 0.028, 'alternative': 0.028, 'al': 0.028, 'affect': 0.028, 'adaptation': 0.028, 'abstract': 0.028, 'abc': 0.028, '2018': 0.028, 'variation': 0.024}\n",
      "INTERLINK {'piece': 0.602, 'musical': 0.468, 'excerpt': 0.177, 'relation': 0.165, 'lyric': 0.151, 'composer': 0.143, 'song': 0.133, 'different': 0.132, 'music': 0.131, 'collection': 0.117, 'information': 0.113, 'composition': 0.105, 'performer': 0.099, 'country': 0.099, 'available': 0.099, 'yes': 0.089, 'various': 0.089, 'shuffle': 0.089, 'record': 0.089, 'occur': 0.089, 'mention': 0.089, 'field': 0.089, 'create': 0.089, 'relevant': 0.088, 'feature': 0.088, 'connect': 0.088, 'result': 0.075, 'search': 0.066, 'musician': 0.066, 'metadata': 0.066, 'pattern': 0.059, 'melodic': 0.059, 'historical': 0.059, 'time': 0.048, 'william': 0.044, 'venue': 0.044, 'trend': 0.044, 'thematic': 0.044, 'textual': 0.044, 'selects': 0.044, 'selected': 0.044, 'select': 0.044, 'playlist': 0.044, 'persona': 0.044, 'outside': 0.044, 'obvious': 0.044, 'non': 0.044, 'multimedia': 0.044, 'multi': 0.044, 'inspect': 0.044, 'inside': 0.044, 'immediate': 0.044, 'image': 0.044, 'gap': 0.044, 'focus': 0.044, 'exhibition': 0.044, 'degree': 0.044, 'datasets': 0.044, 'common': 0.044, 'collections': 0.044, 'background': 0.044, 'appear': 0.044, 'user': 0.038, 'title': 0.038, 'person': 0.038, 'medium': 0.038, 'mean': 0.038, 'match': 0.038, 'like': 0.038, 'language': 0.038, 'document': 0.038, 'connection': 0.038, 'artist': 0.038, 'type': 0.033, 'previous': 0.033, 'period': 0.033, 'know': 0.033, 'genre': 0.033, 'visualize': 0.029, 'people': 0.029, 'use': 0.026, 'event': 0.026, 'change': 0.024, 'source': 0.022, 'relate': 0.022}\n",
      "BELLS {'bell': 0.742, 'practice': 0.247, 'sound': 0.21, 'tower': 0.165, 'manually': 0.165, 'play': 0.153, 'transmission': 0.14, 'repertoire': 0.14, 'perform': 0.14, 'kind': 0.124, 'execution': 0.124, 'church': 0.124, 'building': 0.105, 'set': 0.098, 'using': 0.082, 'technique': 0.082, 'mount': 0.082, 'formalize': 0.082, 'electric': 0.082, 'cast': 0.082, 'specific': 0.07, 'involve': 0.07, 'year': 0.054, 'woman': 0.041, 'weight': 0.041, 'urban': 0.041, 'traditionally': 0.041, 'tool': 0.041, 'surround': 0.041, 'soundscape': 0.041, 'skill': 0.041, 'significant': 0.041, 'repercussion': 0.041, 'presence': 0.041, 'periurban': 0.041, 'note': 0.041, 'nominal': 0.041, 'mouth': 0.041, 'method': 0.041, 'men': 0.041, 'include': 0.041, 'group': 0.041, 'generally': 0.041, 'fundamental': 0.041, 'frequency': 0.041, 'foundry': 0.041, 'employ': 0.041, 'electrically': 0.041, 'diameter': 0.041, 'contemporary': 0.041, 'collective': 0.041, 'characterizes': 0.041, 'carry': 0.041, 'bow': 0.041, 'area': 0.041, 'age': 0.041, 'actor': 0.041, 'acquisition': 0.041, 'accompany': 0.041, 'world': 0.035, 'variation': 0.035, 'public': 0.035, 'produce': 0.035, 'possible': 0.035, 'place': 0.035, 'performance': 0.035, 'organization': 0.035, 'mean': 0.035, 'material': 0.035, 'locate': 0.035, 'hand': 0.035, 'extension': 0.035, 'currently': 0.035, 'build': 0.035, 'location': 0.031, 'date': 0.031, 'characterize': 0.031, 'people': 0.027, 'measure': 0.027, 'historical': 0.027, 'evidence': 0.027, 'context': 0.027, 'accord': 0.027, 'event': 0.024, 'relate': 0.02}\n",
      "TONALITIES {'work': 0.377, 'composition': 0.331, 'mode': 0.258, 'belong': 0.215, 'interpretation': 0.152, 'harold': 0.152, 'alexander': 0.152, 'criterion': 0.151, 'print': 0.129, 'case': 0.129, 'music': 0.12, 'score': 0.113, 'base': 0.113, 'vide': 0.101, 'true': 0.101, 'tonus': 0.101, 'tonalities': 0.101, 'theoretical': 0.101, 'siegfried': 0.101, 'robert': 0.101, 'peregrinus': 0.101, 'motet': 0.101, 'mixolydian': 0.101, 'license': 0.101, 'leonhard': 0.101, 'homo': 0.101, 'frans': 0.101, 'format': 0.101, 'final': 0.101, 'example': 0.101, 'editor': 0.101, 'consider': 0.101, 'bernhard': 0.101, 'analytical': 0.101, 'source': 0.099, 'modal': 0.086, 'extent': 0.086, 'electronic': 0.086, 'assign': 0.086, 'composer': 0.082, 'write': 0.075, 'corpus': 0.075, 'available': 0.075, 'relate': 0.074, 'zarlinian': 0.051, 'tridentine': 0.051, 'transcription': 0.051, 'tension': 0.051, 'tell': 0.051, 'tansillo': 0.051, 'symbol': 0.051, 'suggest': 0.051, 'substantiate': 0.051, 'status': 0.051, 'spirituality': 0.051, 'scientific': 0.051, 'scheme': 0.051, 'reused': 0.051, 'religious': 0.051, 'realisation': 0.051, 'read': 0.051, 'quote': 0.051, 'quotation': 0.051, 'publish': 0.051, 'pseudonyme': 0.051, 'post': 0.051, 'polifonia': 0.051, 'point': 0.051, 'online': 0.051, 'octave': 0.051, 'modified': 0.051, 'model': 0.051, 'modality': 0.051, 'lassus': 0.051, 'lasso': 0.051, 'larger': 0.051, 'lagrime': 0.051, 'knowledge': 0.051, 'intend': 0.051, 'hypothesis': 0.051, 'house': 0.051, 'history': 0.051, 'expected': 0.051, 'exegetical': 0.051, 'examination': 0.051, 'environment': 0.051, 'diatonic': 0.051, 'death': 0.051, 'correspond': 0.051, 'contain': 0.051, 'conscience': 0.051, 'clef': 0.051, 'chord': 0.051, 'cadential': 0.051, 'birthdate': 0.051, 'bassus': 0.051, 'basis': 0.051, 'assume': 0.051, 'apart': 0.051, 'ambiguity': 0.051}\n",
      "FACETS {'search': 0.312, 'opus': 0.3, 'result': 0.204, 'digital': 0.204, 'relevant': 0.198, 'pattern': 0.198, 'feature': 0.198, 'refine': 0.18, 'fly': 0.18, 'criterias': 0.18, 'score': 0.178, 'base': 0.178, 'user': 0.153, 'store': 0.12, 'navigate': 0.12, 'library': 0.12, 'initial': 0.12, 'independant': 0.12, 'fragment': 0.12, 'dimension': 0.12, 'concept': 0.12, 'collection': 0.119, 'set': 0.107, 'level': 0.102, 'content': 0.102, 'link': 0.089, 'criterion': 0.089, 'corpus': 0.089, 'source': 0.088, 'triad': 0.06, 'systm': 0.06, 'susesimilarity': 0.06, 'support': 0.06, 'subset': 0.06, 'subcorpus': 0.06, 'subcollections': 0.06, 'step': 0.06, 'standard': 0.06, 'space': 0.06, 'rich': 0.06, 'revise': 0.06, 'retrieve': 0.06, 'represent': 0.06, 'reorganization': 0.06, 'refer': 0.06, 'reecording': 0.06, 'raw': 0.06, 'propose': 0.06, 'progressively': 0.06, 'partition': 0.06, 'organize': 0.06, 'organisation': 0.06, 'opuses': 0.06, 'operation': 0.06, 'nagivate': 0.06, 'large': 0.06, 'instance': 0.06, 'identifiy': 0.06, 'hierarchy': 0.06, 'hierarchically': 0.06, 'gather': 0.06, 'ful': 0.06, 'form': 0.06, 'extract': 0.06, 'express': 0.06, 'explore': 0.06, 'expectation': 0.06, 'expand': 0.06, 'examine': 0.06, 'enrich': 0.06, 'efficiently': 0.06, 'definition': 0.06, 'combination': 0.06, 'clear': 0.06, 'classify': 0.06, 'anotation': 0.06, 'annotation': 0.06, 'add': 0.06, 'able': 0.06, 'way': 0.051, 'relationship': 0.051, 'organization': 0.051, 'occurrence': 0.051, 'moment': 0.051, 'mode': 0.051, 'meet': 0.051, 'meaning': 0.051, 'match': 0.051, 'line': 0.051, 'intention': 0.051, 'identify': 0.051, 'higher': 0.051, 'extension': 0.051, 'cadence': 0.051, 'work': 0.045, 'period': 0.045, 'metadata': 0.045, 'genre': 0.045, 'visualize': 0.04, 'musical': 0.04}\n",
      "ORGANS {'organ': 0.956, 'builder': 0.079, 'make': 0.078, 'current': 0.078, 'material': 0.067, 'wind': 0.065, 'stop': 0.065, 'lower': 0.052, 'disposition': 0.052, 'type': 0.049, 'location': 0.049, 'range': 0.045, 'case': 0.045, 'resource': 0.039, 'pressure': 0.039, 'paul': 0.039, 'component': 0.039, '1_organcomparison': 0.039, 'pitch': 0.033, 'higher': 0.033, 'exist': 0.033, 'cqs': 0.033, 'build': 0.033, 'video': 0.026, 'start': 0.026, 'pedal': 0.026, 'mm': 0.026, 'manual': 0.026, 'literature': 0.026, 'hz': 0.026, 'historic': 0.026, 'fact': 0.026, 'end': 0.026, 'deconstructed': 0.026, 'deconstruct': 0.026, 'construction': 0.026, 'console': 0.026, 'century': 0.026, 'audio': 0.026, 'addition': 0.026, 'action': 0.026, '17th': 0.026, 'feature': 0.026, 'source': 0.026, 'similar': 0.022, 'characteristic': 0.022, 'change': 0.021, 'know': 0.019, 'year': 0.017, 'temperature': 0.013, 'temperament': 0.013, 'suggestion': 0.013, 'story': 0.013, 'stil': 0.013, 'southern': 0.013, 'site': 0.013, 'reuse': 0.013, 'retrieval': 0.013, 'restore': 0.013, 'region': 0.013, 'regard': 0.013, 'real': 0.013, 'personalize': 0.013, 'organist': 0.013, 'near': 0.013, 'navigation': 0.013, 'maintainer': 0.013, 'maintain': 0.013, 'look': 0.013, 'keyboard': 0.013, 'interesting': 0.013, 'inscription': 0.013, 'heigher': 0.013, 'geographically': 0.013, 'filtering': 0.013, 'filter': 0.013, 'existence': 0.013, 'element': 0.013, 'earlier': 0.013, 'distinct': 0.013, 'differ': 0.013, 'decorative': 0.013, 'coordinate': 0.013, 'city': 0.013, 'bellow': 0.013, 'apply': 0.013, 'aid': 0.013, 'agenda': 0.013, 'address': 0.013, 'way': 0.011, 'term': 0.011, 'style': 0.011, 'spanish': 0.011, 'sound': 0.011, 'similarity': 0.011, 'share': 0.011, 'person': 0.011, 'owner': 0.011, 'locate': 0.011, 'like': 0.011}\n",
      "MUSICBO {'musical': 0.595, 'composition': 0.51, 'word': 0.245, 'perform': 0.243, 'performance': 0.209, 'vocality': 0.164, 'meaning': 0.139, 'evidence': 0.135, 'time': 0.132, 'event': 0.121, 'musician': 0.091, 'speak': 0.082, 'singer': 0.082, 'reference': 0.082, 'reception': 0.082, 'receive': 0.082, 'participate': 0.082, 'bologna': 0.082, 'bibliographic': 0.082, 'medium': 0.07, 'involve': 0.07, 'document': 0.07, 'building': 0.07, 'performer': 0.061, 'date': 0.061, 'historical': 0.054, 'context': 0.054, 'change': 0.044, 'wagner': 0.041, 'voice': 0.041, 'verdi': 0.041, 'traced': 0.041, 'talk': 0.041, 'recounted': 0.041, 'reaction': 0.041, 'positive': 0.041, 'french': 0.041, 'figure': 0.041, 'critical': 0.041, 'tonality': 0.035, 'spanish': 0.035, 'public': 0.035, 'italian': 0.035, 'instrument': 0.035, 'german': 0.035, 'write': 0.03, 'work': 0.03, 'score': 0.03, 'composer': 0.022, 'relate': 0.02}\n",
      "ACCESS {'rhythm': 0.72, 'kit': 0.36, 'drum': 0.36, 'bassline': 0.36, 'electronic': 0.306}\n"
     ]
    }
   ],
   "source": [
    "# https://www.freecodecamp.org/news/how-to-extract-keywords-from-text-with-tf-idf-and-pythons-scikit-learn-b2a0f3d7e667/\n",
    "\n",
    "from sklearn.feature_extraction.text import TfidfVectorizer\n",
    "\n",
    "def sort_items(coo_matrix):\n",
    "    tuples = zip(coo_matrix.col, coo_matrix.data)\n",
    "    return sorted(tuples, key=lambda x: (x[1], x[0]), reverse=True)\n",
    "\n",
    "def extract_topn(names, sorted_items, topn=10):\n",
    "    sorted_items = sorted_items[:topn]\n",
    "    score_vals = []\n",
    "    feature_vals = []\n",
    "    for idx, score in sorted_items:\n",
    "        score_vals.append(round(score, 3))\n",
    "        feature_vals.append(names[idx])\n",
    "    results={}\n",
    "    for idx in range(len(feature_vals)):\n",
    "        results[feature_vals[idx]]=score_vals[idx]\n",
    "    return results\n",
    "\n",
    "tfidf_vectorizer = TfidfVectorizer(max_df=1.0, min_df=1, max_features=None, stop_words='english')\n",
    "tfidf_vectorizer.fit(documents)\n",
    "feature_names = tfidf_vectorizer.get_feature_names()\n",
    "c = 0\n",
    "n_top=10\n",
    "for pilot in pilots_keys:\n",
    "  doc = documents[c]\n",
    "  #print(pilot, doc)\n",
    "  tfidf = tfidf_vectorizer.transform([doc])\n",
    "  c = c + 1\n",
    "  sorted_items = sort_items(tfidf.tocoo())\n",
    "  keywords = extract_topn(feature_names, sorted_items,100)\n",
    "  print(pilot, keywords)"
   ]
  },
  {
   "cell_type": "code",
   "execution_count": null,
   "metadata": {},
   "outputs": [],
   "source": []
  },
  {
   "cell_type": "code",
   "execution_count": null,
   "metadata": {},
   "outputs": [],
   "source": []
  }
 ],
 "metadata": {
  "kernelspec": {
   "display_name": "Python 3 (ipykernel)",
   "language": "python",
   "name": "python3"
  },
  "language_info": {
   "codemirror_mode": {
    "name": "ipython",
    "version": 3
   },
   "file_extension": ".py",
   "mimetype": "text/x-python",
   "name": "python",
   "nbconvert_exporter": "python",
   "pygments_lexer": "ipython3",
   "version": "3.9.12"
  }
 },
 "nbformat": 4,
 "nbformat_minor": 4
}
